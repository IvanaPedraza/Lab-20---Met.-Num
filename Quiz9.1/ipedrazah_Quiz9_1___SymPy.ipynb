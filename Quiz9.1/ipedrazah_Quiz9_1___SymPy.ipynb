{
  "nbformat": 4,
  "nbformat_minor": 0,
  "metadata": {
    "colab": {
      "provenance": [],
      "include_colab_link": true
    },
    "kernelspec": {
      "name": "python3",
      "display_name": "Python 3"
    }
  },
  "cells": [
    {
      "cell_type": "markdown",
      "metadata": {
        "id": "view-in-github",
        "colab_type": "text"
      },
      "source": [
        "<a href=\"https://colab.research.google.com/github/IvanaPedraza/MetNumUN2024I/blob/main/Quiz9.1/ipedrazah_Quiz9_1___SymPy.ipynb\" target=\"_parent\"><img src=\"https://colab.research.google.com/assets/colab-badge.svg\" alt=\"Open In Colab\"/></a>"
      ]
    },
    {
      "cell_type": "markdown",
      "source": [
        "# 1. Solve the using *LUsolve* from sympy the   2 $\\times$ 2 system $Ax=b$, inside the function *LUsolve_2_by_2_lin_sys* with\n",
        "\n",
        "$$A = \\left[\n",
        "  \\begin{array}{cc}\n",
        "e & i\\\\\n",
        " \\sqrt{2}& \\pi\n",
        "\\end{array}\n",
        "\\right]\n",
        "$$\n",
        "\n",
        "$$b  = \\left[\n",
        "  \\begin{array}{c}\n",
        "\\sqrt{3} \\\\\n",
        "1\n",
        "\\end{array}\n",
        "\\right]\n",
        "$$"
      ],
      "metadata": {
        "id": "Voh5FtIzbcn3"
      }
    },
    {
      "cell_type": "code",
      "source": [
        "from sympy import *\n",
        "init_printing()\n",
        "\n",
        "def LUsolve_2_by_2_lin_sys():\n",
        "\n",
        "  A = Matrix([[E,I],\n",
        "            [sqrt(2),pi]])\n",
        "  b = Matrix(2,1,[sqrt(3),1])\n",
        "\n",
        "  x = A.LUsolve(b)\n",
        "\n",
        "  return x\n",
        "\n"
      ],
      "metadata": {
        "id": "2rXVy2w_Re5Z"
      },
      "execution_count": null,
      "outputs": []
    },
    {
      "cell_type": "code",
      "source": [
        "solution = LUsolve_2_by_2_lin_sys()\n",
        "solution"
      ],
      "metadata": {
        "id": "HkGczuBKhFA8",
        "outputId": "9b2094f3-1997-4669-a6a7-d5a3977d6b9b",
        "colab": {
          "base_uri": "https://localhost:8080/",
          "height": 102
        }
      },
      "execution_count": null,
      "outputs": [
        {
          "output_type": "execute_result",
          "data": {
            "text/plain": [
              "⎡⎛       ⎛      -1    ⎞⎞    ⎤\n",
              "⎢⎜     ⅈ⋅⎝- √6⋅ℯ   + 1⎠⎟  -1⎥\n",
              "⎢⎜√3 - ────────────────⎟⋅ℯ  ⎥\n",
              "⎢⎜                 -1  ⎟    ⎥\n",
              "⎢⎝       π - √2⋅ⅈ⋅ℯ    ⎠    ⎥\n",
              "⎢                           ⎥\n",
              "⎢             -1            ⎥\n",
              "⎢       - √6⋅ℯ   + 1        ⎥\n",
              "⎢       ────────────        ⎥\n",
              "⎢                 -1        ⎥\n",
              "⎣       π - √2⋅ⅈ⋅ℯ          ⎦"
            ],
            "text/latex": "$\\displaystyle \\left[\\begin{matrix}\\frac{\\sqrt{3} - \\frac{i \\left(- \\frac{\\sqrt{6}}{e} + 1\\right)}{\\pi - \\frac{\\sqrt{2} i}{e}}}{e}\\\\\\frac{- \\frac{\\sqrt{6}}{e} + 1}{\\pi - \\frac{\\sqrt{2} i}{e}}\\end{matrix}\\right]$"
          },
          "metadata": {},
          "execution_count": 2
        }
      ]
    },
    {
      "cell_type": "markdown",
      "source": [
        "# 2. Solve the using *solve* from sympy the   2 $\\times$ 2 system $Ax=b$, inside the function *solve_2_by_2_lin_sys* with\n",
        "\n",
        "$$A = \\left[\n",
        "  \\begin{array}{cc}\n",
        "e & i\\\\\n",
        " \\sqrt{2}& \\pi\n",
        "\\end{array}\n",
        "\\right]\n",
        "$$\n",
        "\n",
        "$$b  = \\left[\n",
        "  \\begin{array}{c}\n",
        "\\sqrt{3} \\\\\n",
        "1\n",
        "\\end{array}\n",
        "\\right]\n",
        "$$"
      ],
      "metadata": {
        "id": "zTeu2Yzicj0m"
      }
    },
    {
      "cell_type": "code",
      "source": [
        "from sympy import *\n",
        "\n",
        "def solve_2_by_2_lin_sys():\n",
        "    E, I, pi = symbols('E I pi')\n",
        "\n",
        "    A = Matrix([[E, I],\n",
        "                [sqrt(2), pi]])\n",
        "    b = Matrix(2, 1, [sqrt(3), 1])\n",
        "\n",
        "    x1, x2 = symbols('x1 x2')\n",
        "    x = Matrix([x1, x2])\n",
        "\n",
        "    sol = solve(A * x - b, (x1, x2))\n",
        "\n",
        "    return sol\n",
        "\n",
        "init_printing()\n",
        "print(solve_2_by_2_lin_sys())"
      ],
      "metadata": {
        "id": "56WRBbMTReea",
        "outputId": "0ef059a8-6ff1-43d3-a811-c97fd33fc8e7",
        "colab": {
          "base_uri": "https://localhost:8080/"
        }
      },
      "execution_count": null,
      "outputs": [
        {
          "output_type": "stream",
          "name": "stdout",
          "text": [
            "{x1: -E*I*pi/(E**2*pi**2 - 2*sqrt(2)*E*I*pi + 2*I**2) + sqrt(3)*E*pi**2/(E**2*pi**2 - 2*sqrt(2)*E*I*pi + 2*I**2) + sqrt(2)*I**2/(E**2*pi**2 - 2*sqrt(2)*E*I*pi + 2*I**2) - sqrt(6)*I*pi/(E**2*pi**2 - 2*sqrt(2)*E*I*pi + 2*I**2), x2: E/(E*pi - sqrt(2)*I) - sqrt(6)/(E*pi - sqrt(2)*I)}\n"
          ]
        }
      ]
    },
    {
      "cell_type": "code",
      "source": [
        "solution2 = solve_2_by_2_lin_sys()\n",
        "solution2"
      ],
      "metadata": {
        "id": "tvVrM7N3htdr",
        "outputId": "a13e678d-b403-4839-cff5-eb549e88f939",
        "colab": {
          "base_uri": "https://localhost:8080/",
          "height": 68
        }
      },
      "execution_count": null,
      "outputs": [
        {
          "output_type": "execute_result",
          "data": {
            "text/plain": [
              "⎧                                                 2                          2\n",
              "⎪                E⋅I⋅π                      √3⋅E⋅π                       √2⋅I \n",
              "⎨x₁: - ───────────────────────── + ───────────────────────── + ───────────────\n",
              "⎪       2  2                   2    2  2                   2    2  2          \n",
              "⎩      E ⋅π  - 2⋅√2⋅E⋅I⋅π + 2⋅I    E ⋅π  - 2⋅√2⋅E⋅I⋅π + 2⋅I    E ⋅π  - 2⋅√2⋅E⋅\n",
              "\n",
              "                                                                   ⎫\n",
              "                       √6⋅I⋅π                   E            √6    ⎪\n",
              "────────── - ─────────────────────────, x₂: ────────── - ──────────⎬\n",
              "         2    2  2                   2      E⋅π - √2⋅I   E⋅π - √2⋅I⎪\n",
              "I⋅π + 2⋅I    E ⋅π  - 2⋅√2⋅E⋅I⋅π + 2⋅I                              ⎭"
            ],
            "text/latex": "$\\displaystyle \\left\\{ x_{1} : - \\frac{E I \\pi}{E^{2} \\pi^{2} - 2 \\sqrt{2} E I \\pi + 2 I^{2}} + \\frac{\\sqrt{3} E \\pi^{2}}{E^{2} \\pi^{2} - 2 \\sqrt{2} E I \\pi + 2 I^{2}} + \\frac{\\sqrt{2} I^{2}}{E^{2} \\pi^{2} - 2 \\sqrt{2} E I \\pi + 2 I^{2}} - \\frac{\\sqrt{6} I \\pi}{E^{2} \\pi^{2} - 2 \\sqrt{2} E I \\pi + 2 I^{2}}, \\  x_{2} : \\frac{E}{E \\pi - \\sqrt{2} I} - \\frac{\\sqrt{6}}{E \\pi - \\sqrt{2} I}\\right\\}$"
          },
          "metadata": {},
          "execution_count": 4
        }
      ]
    }
  ]
}